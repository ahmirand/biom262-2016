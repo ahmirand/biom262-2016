{
 "cells": [
  {
   "cell_type": "code",
   "execution_count": 7,
   "metadata": {
    "collapsed": false
   },
   "outputs": [
    {
     "data": {
      "text/html": [
       "<table>\n",
       "<thead><tr><th></th><th scope=col>id</th><th scope=col>nxf1</th><th scope=col>raw</th><th scope=col>normal</th><th scope=col>cohort</th></tr></thead>\n",
       "<tbody>\n",
       "\t<tr><th scope=row>1</th><td>N30F4.192</td><td>B</td><td>0.005473881</td><td>0.002223781</td><td>B6</td></tr>\n",
       "\t<tr><th scope=row>2</th><td>N30F4.196</td><td>B</td><td>0.005268219</td><td>0.00214023</td><td>B6</td></tr>\n",
       "\t<tr><th scope=row>3</th><td>N30F4.202</td><td>B</td><td>0.0219772</td><td>0.008928305</td><td>B6</td></tr>\n",
       "\t<tr><th scope=row>4</th><td>N30F4.207</td><td>B</td><td>0.002978839</td><td>0.001210162</td><td>B6</td></tr>\n",
       "\t<tr><th scope=row>5</th><td>N30F4.217</td><td>B</td><td>0.003176875</td><td>0.001290615</td><td>B6</td></tr>\n",
       "\t<tr><th scope=row>6</th><td>N30F4.218</td><td>B</td><td>0.003622804</td><td>0.001471775</td><td>B6</td></tr>\n",
       "\t<tr><th scope=row>7</th><td>N30F4.199</td><td>C</td><td>0.02649444</td><td>0.01076345</td><td>B6</td></tr>\n",
       "\t<tr><th scope=row>8</th><td>N30F4.210</td><td>C</td><td>0.004281812</td><td>0.001739499</td><td>B6</td></tr>\n",
       "\t<tr><th scope=row>9</th><td>N30F4.215</td><td>C</td><td>0.006276129</td><td>0.002549696</td><td>B6</td></tr>\n",
       "\t<tr><th scope=row>10</th><td>N30F4.216</td><td>C</td><td>0.007962358</td><td>0.003234732</td><td>B6</td></tr>\n",
       "\t<tr><th scope=row>11</th><td>N30F4.220</td><td>C</td><td>0.02951941</td><td>0.01199235</td><td>B6</td></tr>\n",
       "\t<tr><th scope=row>12</th><td>N30F4.222</td><td>C</td><td>0.01354432</td><td>0.005502421</td><td>B6</td></tr>\n",
       "</tbody>\n",
       "</table>\n"
      ],
      "text/latex": [
       "\\begin{tabular}{r|lllll}\n",
       "  & id & nxf1 & raw & normal & cohort\\\\\n",
       "\\hline\n",
       "\t1 & N30F4.192 & B & 0.005473881 & 0.002223781 & B6\\\\\n",
       "\t2 & N30F4.196 & B & 0.005268219 & 0.00214023 & B6\\\\\n",
       "\t3 & N30F4.202 & B & 0.0219772 & 0.008928305 & B6\\\\\n",
       "\t4 & N30F4.207 & B & 0.002978839 & 0.001210162 & B6\\\\\n",
       "\t5 & N30F4.217 & B & 0.003176875 & 0.001290615 & B6\\\\\n",
       "\t6 & N30F4.218 & B & 0.003622804 & 0.001471775 & B6\\\\\n",
       "\t7 & N30F4.199 & C & 0.02649444 & 0.01076345 & B6\\\\\n",
       "\t8 & N30F4.210 & C & 0.004281812 & 0.001739499 & B6\\\\\n",
       "\t9 & N30F4.215 & C & 0.006276129 & 0.002549696 & B6\\\\\n",
       "\t10 & N30F4.216 & C & 0.007962358 & 0.003234732 & B6\\\\\n",
       "\t11 & N30F4.220 & C & 0.02951941 & 0.01199235 & B6\\\\\n",
       "\t12 & N30F4.222 & C & 0.01354432 & 0.005502421 & B6\\\\\n",
       "\\end{tabular}\n"
      ],
      "text/plain": [
       "          id nxf1         raw      normal cohort\n",
       "1  N30F4.192    B 0.005473881 0.002223781     B6\n",
       "2  N30F4.196    B 0.005268219 0.002140230     B6\n",
       "3  N30F4.202    B 0.021977200 0.008928305     B6\n",
       "4  N30F4.207    B 0.002978839 0.001210162     B6\n",
       "5  N30F4.217    B 0.003176875 0.001290615     B6\n",
       "6  N30F4.218    B 0.003622804 0.001471775     B6\n",
       "7  N30F4.199    C 0.026494443 0.010763448     B6\n",
       "8  N30F4.210    C 0.004281812 0.001739499     B6\n",
       "9  N30F4.215    C 0.006276129 0.002549696     B6\n",
       "10 N30F4.216    C 0.007962358 0.003234732     B6\n",
       "11 N30F4.220    C 0.029519412 0.011992351     B6\n",
       "12 N30F4.222    C 0.013544320 0.005502421     B6"
      ]
     },
     "execution_count": 7,
     "metadata": {},
     "output_type": "execute_result"
    }
   ],
   "source": [
    "B6<-read.table(\"adamts_B6.txt\",header=T)\n",
    "B6"
   ]
  },
  {
   "cell_type": "code",
   "execution_count": 34,
   "metadata": {
    "collapsed": false
   },
   "outputs": [],
   "source": [
    "balb<-read.table(\"adamts_balbF2.txt\",header=T)"
   ]
  },
  {
   "cell_type": "markdown",
   "metadata": {
    "collapsed": true
   },
   "source": [
    "Q1 Is this a one-tailed or two-tailed test? Why?\n",
    "A1 This should be considered a two tailed test. \n",
    "Although a one tailed test can be considered based on the previous data finding a majority of similar genes being dependent on Nxf1 expression.\n",
    "However, in this case we are still measuring whether there is a difference (increased or decreased with respect to allele) and cannot exclude in either direction for either allele C or B, solely based on the previous results."
   ]
  },
  {
   "cell_type": "markdown",
   "metadata": {
    "collapsed": true
   },
   "source": [
    "Q2 What test statistics would be most appropriate to compare data in B6.txt and why?\n",
    "A1 Here we are trying to determine whether there is a difference in gene expression for \"gene 8\" based on the presence of either the C and B allele of Nxf1.\n",
    "The data is already normalized, however we must also check for equal variances. If the variances are equal, then we can proceed with the two sample t-test, however if the variances are not equal, then we would implement Welch's approximation.\n"
   ]
  },
  {
   "cell_type": "code",
   "execution_count": 21,
   "metadata": {
    "collapsed": false
   },
   "outputs": [
    {
     "data": {
      "text/plain": [
       "\n",
       "\tF test to compare two variances\n",
       "\n",
       "data:  normal by nxf1\n",
       "F = 0.46464, num df = 5, denom df = 5, p-value = 0.4201\n",
       "alternative hypothesis: true ratio of variances is not equal to 1\n",
       "95 percent confidence interval:\n",
       " 0.06501805 3.32052232\n",
       "sample estimates:\n",
       "ratio of variances \n",
       "         0.4646438 \n"
      ]
     },
     "execution_count": 21,
     "metadata": {},
     "output_type": "execute_result"
    }
   ],
   "source": [
    "var.test(normal~nxf1)"
   ]
  },
  {
   "cell_type": "code",
   "execution_count": 23,
   "metadata": {
    "collapsed": false
   },
   "outputs": [
    {
     "data": {
      "text/plain": [
       "\n",
       "\tTwo Sample t-test\n",
       "\n",
       "data:  normal by nxf1\n",
       "t = -1.4216, df = 10, p-value = 0.1856\n",
       "alternative hypothesis: true difference in means is not equal to 0\n",
       "95 percent confidence interval:\n",
       " -0.007923533  0.001751106\n",
       "sample estimates:\n",
       "mean in group B mean in group C \n",
       "    0.002877478     0.005963691 \n"
      ]
     },
     "execution_count": 23,
     "metadata": {},
     "output_type": "execute_result"
    }
   ],
   "source": [
    "t.test(normal~nxf1, var.equal = TRUE)"
   ]
  },
  {
   "cell_type": "markdown",
   "metadata": {},
   "source": [
    "Q3 What test statistic(s) would be most appropriate to compare data in F2.txt? Perform the test in R. (For this exercise, you may either exclude the heterozygous individual, EB216, or treat as if C; extra credit–does this sample matter to your overall conclusion?)\n",
    "A1 In this dataset we have three different cohorts (4/3/09,4/15/09,4/16/09) and mice from each cohort with either the B or C allele (to avoid a headache, I am opting to exclude the heterozygous individual). Ideally, and in order to account for confounding variables, we should separate by cohort date, then compare B vs C allele within each cohort. "
   ]
  },
  {
   "cell_type": "code",
   "execution_count": 42,
   "metadata": {
    "collapsed": false
   },
   "outputs": [
    {
     "ename": "ERROR",
     "evalue": "Error in \"adamts_balbF2.txt\"[-31, ]: incorrect number of dimensions\n",
     "output_type": "error",
     "traceback": [
      "Error in \"adamts_balbF2.txt\"[-31, ]: incorrect number of dimensions\n"
     ]
    },
    {
     "data": {
      "text/html": [
       "<table>\n",
       "<thead><tr><th></th><th scope=col>id.f2</th><th scope=col>nxf1.f2</th><th scope=col>raw.f2</th><th scope=col>normal.f2</th><th scope=col>cohort.f2</th></tr></thead>\n",
       "<tbody>\n",
       "\t<tr><th scope=row>1</th><td>EB026</td><td>B</td><td>7e-05</td><td>0.000740424</td><td>4/3/09</td></tr>\n",
       "\t<tr><th scope=row>2</th><td>EB211</td><td>B</td><td>0.00012</td><td>0.001157392</td><td>4/3/09</td></tr>\n",
       "\t<tr><th scope=row>3</th><td>EB030</td><td>B</td><td>0.00014</td><td>0.001380945</td><td>4/3/09</td></tr>\n",
       "\t<tr><th scope=row>4</th><td>EB034</td><td>B</td><td>0.00022</td><td>0.002208735</td><td>4/3/09</td></tr>\n",
       "\t<tr><th scope=row>5</th><td>EB319</td><td>B</td><td>0.00091</td><td>0.009084916</td><td>4/3/09</td></tr>\n",
       "\t<tr><th scope=row>6</th><td>EB189</td><td>B</td><td>0.00213</td><td>0.001081516</td><td>4/15/09</td></tr>\n",
       "\t<tr><th scope=row>7</th><td>EB237</td><td>B</td><td>0.0031</td><td>0.001573233</td><td>4/15/09</td></tr>\n",
       "\t<tr><th scope=row>8</th><td>EB279</td><td>B</td><td>0.00349</td><td>0.001772814</td><td>4/15/09</td></tr>\n",
       "\t<tr><th scope=row>9</th><td>EB222</td><td>B</td><td>0.00372</td><td>0.001890922</td><td>4/15/09</td></tr>\n",
       "\t<tr><th scope=row>10</th><td>EB342</td><td>B</td><td>0.00214</td><td>0.001334754</td><td>4/16/09</td></tr>\n",
       "\t<tr><th scope=row>11</th><td>EB299</td><td>B</td><td>0.00217</td><td>0.001349456</td><td>4/16/09</td></tr>\n",
       "\t<tr><th scope=row>12</th><td>EB336</td><td>B</td><td>0.00271</td><td>0.001686254</td><td>4/16/09</td></tr>\n",
       "\t<tr><th scope=row>13</th><td>EB326</td><td>B</td><td>0.00289</td><td>0.001800217</td><td>4/16/09</td></tr>\n",
       "\t<tr><th scope=row>14</th><td>EB319</td><td>B</td><td>0.00327</td><td>0.002037232</td><td>4/16/09</td></tr>\n",
       "\t<tr><th scope=row>15</th><td>EB338</td><td>B</td><td>0.00335</td><td>0.002086975</td><td>4/16/09</td></tr>\n",
       "\t<tr><th scope=row>16</th><td>EB362</td><td>B</td><td>0.00657</td><td>0.004091404</td><td>4/16/09</td></tr>\n",
       "\t<tr><th scope=row>17</th><td>EB321</td><td>B</td><td>0.00776</td><td>0.004834029</td><td>4/16/09</td></tr>\n",
       "\t<tr><th scope=row>18</th><td>EB323</td><td>B</td><td>0.01112</td><td>0.006926883</td><td>4/16/09</td></tr>\n",
       "\t<tr><th scope=row>19</th><td>EB032</td><td>C</td><td>0.00037</td><td>0.00369398</td><td>4/3/09</td></tr>\n",
       "\t<tr><th scope=row>20</th><td>EB346</td><td>C</td><td>0.00055</td><td>0.00547956</td><td>4/3/09</td></tr>\n",
       "\t<tr><th scope=row>21</th><td>EB217</td><td>C</td><td>0.00063</td><td>0.006311733</td><td>4/3/09</td></tr>\n",
       "\t<tr><th scope=row>22</th><td>EB297</td><td>C</td><td>0.00445</td><td>0.002261018</td><td>4/15/09</td></tr>\n",
       "\t<tr><th scope=row>23</th><td>EB266</td><td>C</td><td>0.00558</td><td>0.00283316</td><td>4/15/09</td></tr>\n",
       "\t<tr><th scope=row>24</th><td>EB265</td><td>C</td><td>0.00596</td><td>0.003029921</td><td>4/15/09</td></tr>\n",
       "\t<tr><th scope=row>25</th><td>EB241</td><td>C</td><td>0.00627</td><td>0.003188702</td><td>4/15/09</td></tr>\n",
       "\t<tr><th scope=row>26</th><td>EB278</td><td>C</td><td>0.00891</td><td>0.00453021</td><td>4/15/09</td></tr>\n",
       "\t<tr><th scope=row>27</th><td>EB225</td><td>C</td><td>0.01061</td><td>0.005392136</td><td>4/15/09</td></tr>\n",
       "\t<tr><th scope=row>28</th><td>EB294</td><td>C</td><td>0.01089</td><td>0.005533425</td><td>4/15/09</td></tr>\n",
       "\t<tr><th scope=row>29</th><td>EB305</td><td>C</td><td>0.01459</td><td>0.009084457</td><td>4/16/09</td></tr>\n",
       "\t<tr><th scope=row>30</th><td>EB340</td><td>C</td><td>0.03784</td><td>0.02356012</td><td>4/16/09</td></tr>\n",
       "</tbody>\n",
       "</table>\n"
      ],
      "text/latex": [
       "\\begin{tabular}{r|lllll}\n",
       "  & id.f2 & nxf1.f2 & raw.f2 & normal.f2 & cohort.f2\\\\\n",
       "\\hline\n",
       "\t1 & EB026 & B & 7e-05 & 0.000740424 & 4/3/09\\\\\n",
       "\t2 & EB211 & B & 0.00012 & 0.001157392 & 4/3/09\\\\\n",
       "\t3 & EB030 & B & 0.00014 & 0.001380945 & 4/3/09\\\\\n",
       "\t4 & EB034 & B & 0.00022 & 0.002208735 & 4/3/09\\\\\n",
       "\t5 & EB319 & B & 0.00091 & 0.009084916 & 4/3/09\\\\\n",
       "\t6 & EB189 & B & 0.00213 & 0.001081516 & 4/15/09\\\\\n",
       "\t7 & EB237 & B & 0.0031 & 0.001573233 & 4/15/09\\\\\n",
       "\t8 & EB279 & B & 0.00349 & 0.001772814 & 4/15/09\\\\\n",
       "\t9 & EB222 & B & 0.00372 & 0.001890922 & 4/15/09\\\\\n",
       "\t10 & EB342 & B & 0.00214 & 0.001334754 & 4/16/09\\\\\n",
       "\t11 & EB299 & B & 0.00217 & 0.001349456 & 4/16/09\\\\\n",
       "\t12 & EB336 & B & 0.00271 & 0.001686254 & 4/16/09\\\\\n",
       "\t13 & EB326 & B & 0.00289 & 0.001800217 & 4/16/09\\\\\n",
       "\t14 & EB319 & B & 0.00327 & 0.002037232 & 4/16/09\\\\\n",
       "\t15 & EB338 & B & 0.00335 & 0.002086975 & 4/16/09\\\\\n",
       "\t16 & EB362 & B & 0.00657 & 0.004091404 & 4/16/09\\\\\n",
       "\t17 & EB321 & B & 0.00776 & 0.004834029 & 4/16/09\\\\\n",
       "\t18 & EB323 & B & 0.01112 & 0.006926883 & 4/16/09\\\\\n",
       "\t19 & EB032 & C & 0.00037 & 0.00369398 & 4/3/09\\\\\n",
       "\t20 & EB346 & C & 0.00055 & 0.00547956 & 4/3/09\\\\\n",
       "\t21 & EB217 & C & 0.00063 & 0.006311733 & 4/3/09\\\\\n",
       "\t22 & EB297 & C & 0.00445 & 0.002261018 & 4/15/09\\\\\n",
       "\t23 & EB266 & C & 0.00558 & 0.00283316 & 4/15/09\\\\\n",
       "\t24 & EB265 & C & 0.00596 & 0.003029921 & 4/15/09\\\\\n",
       "\t25 & EB241 & C & 0.00627 & 0.003188702 & 4/15/09\\\\\n",
       "\t26 & EB278 & C & 0.00891 & 0.00453021 & 4/15/09\\\\\n",
       "\t27 & EB225 & C & 0.01061 & 0.005392136 & 4/15/09\\\\\n",
       "\t28 & EB294 & C & 0.01089 & 0.005533425 & 4/15/09\\\\\n",
       "\t29 & EB305 & C & 0.01459 & 0.009084457 & 4/16/09\\\\\n",
       "\t30 & EB340 & C & 0.03784 & 0.02356012 & 4/16/09\\\\\n",
       "\\end{tabular}\n"
      ],
      "text/plain": [
       "   id.f2 nxf1.f2  raw.f2   normal.f2 cohort.f2\n",
       "1  EB026       B 0.00007 0.000740424    4/3/09\n",
       "2  EB211       B 0.00012 0.001157392    4/3/09\n",
       "3  EB030       B 0.00014 0.001380945    4/3/09\n",
       "4  EB034       B 0.00022 0.002208735    4/3/09\n",
       "5  EB319       B 0.00091 0.009084916    4/3/09\n",
       "6  EB189       B 0.00213 0.001081516   4/15/09\n",
       "7  EB237       B 0.00310 0.001573233   4/15/09\n",
       "8  EB279       B 0.00349 0.001772814   4/15/09\n",
       "9  EB222       B 0.00372 0.001890922   4/15/09\n",
       "10 EB342       B 0.00214 0.001334754   4/16/09\n",
       "11 EB299       B 0.00217 0.001349456   4/16/09\n",
       "12 EB336       B 0.00271 0.001686254   4/16/09\n",
       "13 EB326       B 0.00289 0.001800217   4/16/09\n",
       "14 EB319       B 0.00327 0.002037232   4/16/09\n",
       "15 EB338       B 0.00335 0.002086975   4/16/09\n",
       "16 EB362       B 0.00657 0.004091404   4/16/09\n",
       "17 EB321       B 0.00776 0.004834029   4/16/09\n",
       "18 EB323       B 0.01112 0.006926883   4/16/09\n",
       "19 EB032       C 0.00037 0.003693980    4/3/09\n",
       "20 EB346       C 0.00055 0.005479560    4/3/09\n",
       "21 EB217       C 0.00063 0.006311733    4/3/09\n",
       "22 EB297       C 0.00445 0.002261018   4/15/09\n",
       "23 EB266       C 0.00558 0.002833160   4/15/09\n",
       "24 EB265       C 0.00596 0.003029921   4/15/09\n",
       "25 EB241       C 0.00627 0.003188702   4/15/09\n",
       "26 EB278       C 0.00891 0.004530210   4/15/09\n",
       "27 EB225       C 0.01061 0.005392136   4/15/09\n",
       "28 EB294       C 0.01089 0.005533425   4/15/09\n",
       "29 EB305       C 0.01459 0.009084457   4/16/09\n",
       "30 EB340       C 0.03784 0.023560116   4/16/09"
      ]
     },
     "execution_count": 42,
     "metadata": {},
     "output_type": "execute_result"
    }
   ],
   "source": [
    "excH<- \"adamts_balbF2.txt\"[-31,]\n",
    "excH"
   ]
  },
  {
   "cell_type": "markdown",
   "metadata": {},
   "source": [
    "First let's check if the variances are equal for each cohort date!"
   ]
  },
  {
   "cell_type": "code",
   "execution_count": 47,
   "metadata": {
    "collapsed": false
   },
   "outputs": [
    {
     "ename": "ERROR",
     "evalue": "Error in eval(expr, envir, enclos): could not find function \"scatter.plot\"\n",
     "output_type": "error",
     "traceback": [
      "Error in eval(expr, envir, enclos): could not find function \"scatter.plot\"\n"
     ]
    }
   ],
   "source": [
    "scatter.plot(normal.f2~cohort.f2, nxf1.f2)"
   ]
  },
  {
   "cell_type": "markdown",
   "metadata": {},
   "source": [
    "Q4 What do you conclude about the influence of Nxf1 on gene 8? How strong is the evidence overall?"
   ]
  },
  {
   "cell_type": "markdown",
   "metadata": {},
   "source": [
    "Q5 Are parametric or non-parametric test more sensitive to outliers values?"
   ]
  }
 ],
 "metadata": {
  "kernelspec": {
   "display_name": "R",
   "language": "R",
   "name": "ir"
  },
  "language_info": {
   "codemirror_mode": "r",
   "file_extension": ".r",
   "mimetype": "text/x-r-source",
   "name": "R",
   "pygments_lexer": "r",
   "version": "3.2.2"
  }
 },
 "nbformat": 4,
 "nbformat_minor": 0
}
