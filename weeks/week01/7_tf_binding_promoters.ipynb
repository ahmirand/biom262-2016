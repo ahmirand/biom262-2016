{
 "cells": [
  {
   "cell_type": "code",
   "execution_count": 23,
   "metadata": {
    "collapsed": false
   },
   "outputs": [
    {
     "name": "stdout",
     "output_type": "stream",
     "text": [
      "/home/ucsd-train17/code/biom262-2016/weeks/week01/data\n"
     ]
    }
   ],
   "source": [
    "cd ~/code/biom262-2016/weeks/week01/data"
   ]
  },
  {
   "cell_type": "code",
   "execution_count": 24,
   "metadata": {
    "collapsed": true
   },
   "outputs": [],
   "source": [
    "%%bash --out exercise1\n",
    "cat tf.bed | grep --word-regexp 'NFKB' | wc -l\n",
    "cat tf.bed | grep --word-regexp 'NFKB' > tf.nfkb.bed\n",
    "wc -l tf.nfkb.bed\n",
    "echo '---First 10 lines ---'\n",
    "head tf.nfkb.bed\n",
    "echo '---Random 10 lines ---'\n",
    "awk -v seed=907 'BEGIN{srand(seed);}{ if (rand() <0.5){print $0}}' tf.nfkb.bed | head\n",
    "echo '--- Last 10 lines ---'\n",
    "tail tf.nfkb.bed"
   ]
  },
  {
   "cell_type": "code",
   "execution_count": 25,
   "metadata": {
    "collapsed": false
   },
   "outputs": [
    {
     "name": "stdout",
     "output_type": "stream",
     "text": [
      "702\n",
      "702 tf.nfkb.bed\n",
      "---First 10 lines ---\n",
      "chr22\t17565763\t17566145\tNFKB\t406\t.\t17565763\t17566145\t0\t1\t382,\t0,\n",
      "chr22\t17568509\t17568945\tNFKB\t354\t.\t17568509\t17568945\t0\t1\t436,\t0,\n",
      "chr22\t17700141\t17700502\tNFKB\t525\t.\t17700141\t17700502\t0\t1\t361,\t0,\n",
      "chr22\t17701962\t17702278\tNFKB\t295\t.\t17701962\t17702278\t0\t1\t316,\t0,\n",
      "chr22\t17709521\t17709797\tNFKB\t300\t.\t17709521\t17709797\t0\t1\t276,\t0,\n",
      "chr22\t17724391\t17724724\tNFKB\t413\t.\t17724391\t17724724\t0\t1\t333,\t0,\n",
      "chr22\t17738401\t17738677\tNFKB\t462\t.\t17738401\t17738677\t0\t1\t276,\t0,\n",
      "chr22\t17738857\t17739282\tNFKB\t573\t.\t17738857\t17739282\t0\t1\t425,\t0,\n",
      "chr22\t17761088\t17761435\tNFKB\t244\t.\t17761088\t17761435\t0\t1\t347,\t0,\n",
      "chr22\t17784788\t17785118\tNFKB\t1000\t.\t17784788\t17785118\t0\t1\t330,\t0,\n",
      "---Random 10 lines ---\n",
      "chr22\t17700141\t17700502\tNFKB\t525\t.\t17700141\t17700502\t0\t1\t361,\t0,\n",
      "chr22\t17701962\t17702278\tNFKB\t295\t.\t17701962\t17702278\t0\t1\t316,\t0,\n",
      "chr22\t17709521\t17709797\tNFKB\t300\t.\t17709521\t17709797\t0\t1\t276,\t0,\n",
      "chr22\t17738401\t17738677\tNFKB\t462\t.\t17738401\t17738677\t0\t1\t276,\t0,\n",
      "chr22\t17738857\t17739282\tNFKB\t573\t.\t17738857\t17739282\t0\t1\t425,\t0,\n",
      "chr22\t17761088\t17761435\tNFKB\t244\t.\t17761088\t17761435\t0\t1\t347,\t0,\n",
      "chr22\t17784788\t17785118\tNFKB\t1000\t.\t17784788\t17785118\t0\t1\t330,\t0,\n",
      "chr22\t18111762\t18112038\tNFKB\t453\t.\t18111762\t18112038\t0\t1\t276,\t0,\n",
      "chr22\t18225198\t18225524\tNFKB\t428\t.\t18225198\t18225524\t0\t1\t326,\t0,\n",
      "chr22\t18278491\t18278848\tNFKB\t1000\t.\t18278491\t18278848\t0\t1\t357,\t0,\n",
      "--- Last 10 lines ---\n",
      "chr22\t50969418\t50969694\tNFKB\t415\t.\t50969418\t50969694\t0\t1\t276,\t0,\n",
      "chr22\t50970799\t50971099\tNFKB\t298\t.\t50970799\t50971099\t0\t1\t300,\t0,\n",
      "chr22\t50978032\t50978392\tNFKB\t1000\t.\t50978032\t50978392\t0\t1\t360,\t0,\n",
      "chr22\t50979332\t50979632\tNFKB\t307\t.\t50979332\t50979632\t0\t1\t300,\t0,\n",
      "chr22\t50980831\t50981158\tNFKB\t365\t.\t50980831\t50981158\t0\t1\t327,\t0,\n",
      "chr22\t51001317\t51001593\tNFKB\t380\t.\t51001317\t51001593\t0\t1\t276,\t0,\n",
      "chr22\t51021040\t51021316\tNFKB\t484\t.\t51021040\t51021316\t0\t1\t276,\t0,\n",
      "chr22\t51021478\t51021754\tNFKB\t363\t.\t51021478\t51021754\t0\t1\t276,\t0,\n",
      "chr22\t51058900\t51059230\tNFKB\t498\t.\t51058900\t51059230\t0\t1\t330,\t0,\n",
      "chr22\t51060107\t51060383\tNFKB\t354\t.\t51060107\t51060383\t0\t1\t276,\t0,\n",
      "\n"
     ]
    }
   ],
   "source": [
    "print(exercise1)"
   ]
  },
  {
   "cell_type": "code",
   "execution_count": 26,
   "metadata": {
    "collapsed": false
   },
   "outputs": [],
   "source": [
    "%%bash --out exercise2\n",
    "awk '{if($3==\"transcript\"){print $0}}' gencode.v19.annotation.chr22.gtf > gencode.v19.annotation.chr22.transcript.gtf\n",
    "wc -l gencode.v19.annotation.chr22.transcript.gtf\n",
    "echo '---First 10 lines ---'\n",
    "head gencode.v19.annotation.chr22.transcript.gtf\n",
    "echo '---Random 10 lines ---'\n",
    "awk -v seed=907 'BEGIN{srand(seed);}{ if (rand() <0.5){print $0}}' gencode.v19.annotation.chr22.transcript.gtf | head\n",
    "echo '--- Last 10 lines ---'\n",
    "tail gencode.v19.annotation.chr22.transcript.gtf"
   ]
  },
  {
   "cell_type": "code",
   "execution_count": 27,
   "metadata": {
    "collapsed": false,
    "scrolled": true
   },
   "outputs": [
    {
     "name": "stdout",
     "output_type": "stream",
     "text": [
      "4459 gencode.v19.annotation.chr22.transcript.gtf\n",
      "---First 10 lines ---\n",
      "chr22\tHAVANA\ttranscript\t16062157\t16063236\t.\t+\t.\tgene_id \"ENSG00000233866.1\"; transcript_id \"ENST00000424770.1\"; gene_type \"lincRNA\"; gene_status \"KNOWN\"; gene_name \"LA16c-4G1.3\"; transcript_type \"lincRNA\"; transcript_status \"KNOWN\"; transcript_name \"LA16c-4G1.3-001\"; level 2; tag \"basic\"; havana_gene \"OTTHUMG00000140195.1\"; havana_transcript \"OTTHUMT00000276574.1\";\n",
      "chr22\tHAVANA\ttranscript\t16076052\t16076172\t.\t-\t.\tgene_id \"ENSG00000229286.1\"; transcript_id \"ENST00000448070.1\"; gene_type \"pseudogene\"; gene_status \"KNOWN\"; gene_name \"LA16c-4G1.4\"; transcript_type \"unprocessed_pseudogene\"; transcript_status \"KNOWN\"; transcript_name \"LA16c-4G1.4-001\"; level 2; ont \"PGO:0000005\"; havana_gene \"OTTHUMG00000140193.1\"; havana_transcript \"OTTHUMT00000276571.1\";\n",
      "chr22\tHAVANA\ttranscript\t16084249\t16084826\t.\t-\t.\tgene_id \"ENSG00000235265.1\"; transcript_id \"ENST00000413156.1\"; gene_type \"pseudogene\"; gene_status \"KNOWN\"; gene_name \"LA16c-4G1.5\"; transcript_type \"unprocessed_pseudogene\"; transcript_status \"KNOWN\"; transcript_name \"LA16c-4G1.5-001\"; level 2; ont \"PGO:0000005\"; havana_gene \"OTTHUMG00000140197.1\"; havana_transcript \"OTTHUMT00000276576.1\";\n",
      "chr22\tHAVANA\ttranscript\t16100517\t16124973\t.\t-\t.\tgene_id \"ENSG00000223875.1\"; transcript_id \"ENST00000420638.1\"; gene_type \"pseudogene\"; gene_status \"KNOWN\"; gene_name \"NBEAP3\"; transcript_type \"unprocessed_pseudogene\"; transcript_status \"KNOWN\"; transcript_name \"NBEAP3-001\"; level 2; ont \"PGO:0000005\"; havana_gene \"OTTHUMG00000140196.1\"; havana_transcript \"OTTHUMT00000276575.1\";\n",
      "chr22\tHAVANA\ttranscript\t16122720\t16123768\t.\t+\t.\tgene_id \"ENSG00000215270.3\"; transcript_id \"ENST00000398242.2\"; gene_type \"pseudogene\"; gene_status \"KNOWN\"; gene_name \"LA16c-60H5.7\"; transcript_type \"processed_pseudogene\"; transcript_status \"KNOWN\"; transcript_name \"LA16c-60H5.7-001\"; level 1; ont \"PGO:0000004\"; tag \"pseudo_consens\"; havana_gene \"OTTHUMG00000140200.1\"; havana_transcript \"OTTHUMT00000276581.1\";\n",
      "chr22\tHAVANA\ttranscript\t16147979\t16192971\t.\t-\t.\tgene_id \"ENSG00000206195.6\"; transcript_id \"ENST00000447898.1\"; gene_type \"processed_transcript\"; gene_status \"NOVEL\"; gene_name \"AP000525.9\"; transcript_type \"lincRNA\"; transcript_status \"KNOWN\"; transcript_name \"AP000525.9-002\"; level 2; tag \"basic\"; havana_gene \"OTTHUMG00000185288.2\"; havana_transcript \"OTTHUMT00000276780.1\";\n",
      "chr22\tHAVANA\ttranscript\t16150255\t16193000\t.\t-\t.\tgene_id \"ENSG00000206195.6\"; transcript_id \"ENST00000437781.1\"; gene_type \"processed_transcript\"; gene_status \"NOVEL\"; gene_name \"AP000525.9\"; transcript_type \"lincRNA\"; transcript_status \"KNOWN\"; transcript_name \"AP000525.9-003\"; level 2; havana_gene \"OTTHUMG00000185288.2\"; havana_transcript \"OTTHUMT00000276579.1\";\n",
      "chr22\tHAVANA\ttranscript\t16150529\t16193004\t.\t-\t.\tgene_id \"ENSG00000206195.6\"; transcript_id \"ENST00000413768.1\"; gene_type \"processed_transcript\"; gene_status \"NOVEL\"; gene_name \"AP000525.9\"; transcript_type \"lincRNA\"; transcript_status \"KNOWN\"; transcript_name \"AP000525.9-001\"; level 2; tag \"non_canonical_polymorphism\"; havana_gene \"OTTHUMG00000185288.2\"; havana_transcript \"OTTHUMT00000276578.1\";\n",
      "chr22\tHAVANA\ttranscript\t16158798\t16192995\t.\t-\t.\tgene_id \"ENSG00000206195.6\"; transcript_id \"ENST00000383038.3\"; gene_type \"processed_transcript\"; gene_status \"NOVEL\"; gene_name \"AP000525.9\"; transcript_type \"processed_transcript\"; transcript_status \"KNOWN\"; transcript_name \"AP000525.9-004\"; level 2; havana_gene \"OTTHUMG00000185288.2\"; havana_transcript \"OTTHUMT00000276577.1\";\n",
      "chr22\tHAVANA\ttranscript\t16158829\t16159470\t.\t-\t.\tgene_id \"ENSG00000206195.6\"; transcript_id \"ENST00000607933.1\"; gene_type \"processed_transcript\"; gene_status \"NOVEL\"; gene_name \"AP000525.9\"; transcript_type \"processed_transcript\"; transcript_status \"KNOWN\"; transcript_name \"AP000525.9-006\"; level 2; havana_gene \"OTTHUMG00000185288.2\"; havana_transcript \"OTTHUMT00000472240.1\";\n",
      "---Random 10 lines ---\n",
      "chr22\tHAVANA\ttranscript\t16084249\t16084826\t.\t-\t.\tgene_id \"ENSG00000235265.1\"; transcript_id \"ENST00000413156.1\"; gene_type \"pseudogene\"; gene_status \"KNOWN\"; gene_name \"LA16c-4G1.5\"; transcript_type \"unprocessed_pseudogene\"; transcript_status \"KNOWN\"; transcript_name \"LA16c-4G1.5-001\"; level 2; ont \"PGO:0000005\"; havana_gene \"OTTHUMG00000140197.1\"; havana_transcript \"OTTHUMT00000276576.1\";\n",
      "chr22\tHAVANA\ttranscript\t16100517\t16124973\t.\t-\t.\tgene_id \"ENSG00000223875.1\"; transcript_id \"ENST00000420638.1\"; gene_type \"pseudogene\"; gene_status \"KNOWN\"; gene_name \"NBEAP3\"; transcript_type \"unprocessed_pseudogene\"; transcript_status \"KNOWN\"; transcript_name \"NBEAP3-001\"; level 2; ont \"PGO:0000005\"; havana_gene \"OTTHUMG00000140196.1\"; havana_transcript \"OTTHUMT00000276575.1\";\n",
      "chr22\tHAVANA\ttranscript\t16122720\t16123768\t.\t+\t.\tgene_id \"ENSG00000215270.3\"; transcript_id \"ENST00000398242.2\"; gene_type \"pseudogene\"; gene_status \"KNOWN\"; gene_name \"LA16c-60H5.7\"; transcript_type \"processed_pseudogene\"; transcript_status \"KNOWN\"; transcript_name \"LA16c-60H5.7-001\"; level 1; ont \"PGO:0000004\"; tag \"pseudo_consens\"; havana_gene \"OTTHUMG00000140200.1\"; havana_transcript \"OTTHUMT00000276581.1\";\n",
      "chr22\tHAVANA\ttranscript\t16150255\t16193000\t.\t-\t.\tgene_id \"ENSG00000206195.6\"; transcript_id \"ENST00000437781.1\"; gene_type \"processed_transcript\"; gene_status \"NOVEL\"; gene_name \"AP000525.9\"; transcript_type \"lincRNA\"; transcript_status \"KNOWN\"; transcript_name \"AP000525.9-003\"; level 2; havana_gene \"OTTHUMG00000185288.2\"; havana_transcript \"OTTHUMT00000276579.1\";\n",
      "chr22\tHAVANA\ttranscript\t16150529\t16193004\t.\t-\t.\tgene_id \"ENSG00000206195.6\"; transcript_id \"ENST00000413768.1\"; gene_type \"processed_transcript\"; gene_status \"NOVEL\"; gene_name \"AP000525.9\"; transcript_type \"lincRNA\"; transcript_status \"KNOWN\"; transcript_name \"AP000525.9-001\"; level 2; tag \"non_canonical_polymorphism\"; havana_gene \"OTTHUMG00000185288.2\"; havana_transcript \"OTTHUMT00000276578.1\";\n",
      "chr22\tHAVANA\ttranscript\t16158798\t16192995\t.\t-\t.\tgene_id \"ENSG00000206195.6\"; transcript_id \"ENST00000383038.3\"; gene_type \"processed_transcript\"; gene_status \"NOVEL\"; gene_name \"AP000525.9\"; transcript_type \"processed_transcript\"; transcript_status \"KNOWN\"; transcript_name \"AP000525.9-004\"; level 2; havana_gene \"OTTHUMG00000185288.2\"; havana_transcript \"OTTHUMT00000276577.1\";\n",
      "chr22\tHAVANA\ttranscript\t16158829\t16159470\t.\t-\t.\tgene_id \"ENSG00000206195.6\"; transcript_id \"ENST00000607933.1\"; gene_type \"processed_transcript\"; gene_status \"NOVEL\"; gene_name \"AP000525.9\"; transcript_type \"processed_transcript\"; transcript_status \"KNOWN\"; transcript_name \"AP000525.9-006\"; level 2; havana_gene \"OTTHUMG00000185288.2\"; havana_transcript \"OTTHUMT00000472240.1\";\n",
      "chr22\tHAVANA\ttranscript\t16150776\t16151397\t.\t-\t.\tgene_id \"ENSG00000271672.1\"; transcript_id \"ENST00000456786.2\"; gene_type \"pseudogene\"; gene_status \"KNOWN\"; gene_name \"DUXAP8\"; transcript_type \"transcribed_processed_pseudogene\"; transcript_status \"KNOWN\"; transcript_name \"DUXAP8-001\"; level 1; ont \"PGO:0000004\"; ont \"PGO:0000019\"; tag \"pseudo_consens\"; havana_gene \"OTTHUMG00000140194.3\"; havana_transcript \"OTTHUMT00000276572.3\";\n",
      "chr22\tHAVANA\ttranscript\t16162066\t16172700\t.\t+\t.\tgene_id \"ENSG00000232775.2\"; transcript_id \"ENST00000440946.1\"; gene_type \"pseudogene\"; gene_status \"KNOWN\"; gene_name \"AP000525.10\"; transcript_type \"processed_transcript\"; transcript_status \"KNOWN\"; transcript_name \"AP000525.10-002\"; level 2; tag \"basic\"; havana_gene \"OTTHUMG00000140198.3\"; havana_transcript \"OTTHUMT00000276785.1\";\n",
      "chr22\tHAVANA\ttranscript\t16255355\t16256477\t.\t-\t.\tgene_id \"ENSG00000241838.2\"; transcript_id \"ENST00000417657.1\"; gene_type \"pseudogene\"; gene_status \"KNOWN\"; gene_name \"LA16c-3G11.7\"; transcript_type \"processed_pseudogene\"; transcript_status \"KNOWN\"; transcript_name \"LA16c-3G11.7-001\"; level 1; ont \"PGO:0000004\"; tag \"pseudo_consens\"; havana_gene \"OTTHUMG00000140315.1\"; havana_transcript \"OTTHUMT00000276919.1\";\n",
      "--- Last 10 lines ---\n",
      "chr22\tHAVANA\ttranscript\t51205934\t51222090\t.\t-\t.\tgene_id \"ENSG00000079974.13\"; transcript_id \"ENST00000395591.1\"; gene_type \"protein_coding\"; gene_status \"KNOWN\"; gene_name \"RABL2B\"; transcript_type \"protein_coding\"; transcript_status \"NOVEL\"; transcript_name \"RABL2B-003\"; level 2; tag \"basic\"; havana_gene \"OTTHUMG00000150156.3\"; havana_transcript \"OTTHUMT00000316608.1\";\n",
      "chr22\tHAVANA\ttranscript\t51205934\t51222091\t.\t-\t.\tgene_id \"ENSG00000079974.13\"; transcript_id \"ENST00000395595.3\"; gene_type \"protein_coding\"; gene_status \"KNOWN\"; gene_name \"RABL2B\"; transcript_type \"protein_coding\"; transcript_status \"KNOWN\"; transcript_name \"RABL2B-006\"; level 2; tag \"basic\"; tag \"appris_candidate_longest\"; tag \"CCDS\"; ccdsid \"CCDS33683.1\"; havana_gene \"OTTHUMG00000150156.3\"; havana_transcript \"OTTHUMT00000316611.1\";\n",
      "chr22\tHAVANA\ttranscript\t51205937\t51208930\t.\t-\t.\tgene_id \"ENSG00000079974.13\"; transcript_id \"ENST00000465063.1\"; gene_type \"protein_coding\"; gene_status \"KNOWN\"; gene_name \"RABL2B\"; transcript_type \"processed_transcript\"; transcript_status \"KNOWN\"; transcript_name \"RABL2B-010\"; level 2; tag \"basic\"; havana_gene \"OTTHUMG00000150156.3\"; havana_transcript \"OTTHUMT00000316615.1\";\n",
      "chr22\tHAVANA\ttranscript\t51205958\t51222066\t.\t-\t.\tgene_id \"ENSG00000079974.13\"; transcript_id \"ENST00000436958.1\"; gene_type \"protein_coding\"; gene_status \"KNOWN\"; gene_name \"RABL2B\"; transcript_type \"nonsense_mediated_decay\"; transcript_status \"KNOWN\"; transcript_name \"RABL2B-002\"; level 2; havana_gene \"OTTHUMG00000150156.3\"; havana_transcript \"OTTHUMT00000316607.1\";\n",
      "chr22\tHAVANA\ttranscript\t51207955\t51214261\t.\t-\t.\tgene_id \"ENSG00000079974.13\"; transcript_id \"ENST00000482308.1\"; gene_type \"protein_coding\"; gene_status \"KNOWN\"; gene_name \"RABL2B\"; transcript_type \"retained_intron\"; transcript_status \"KNOWN\"; transcript_name \"RABL2B-013\"; level 2; havana_gene \"OTTHUMG00000150156.3\"; havana_transcript \"OTTHUMT00000349056.1\";\n",
      "chr22\tHAVANA\ttranscript\t51208210\t51221714\t.\t-\t.\tgene_id \"ENSG00000079974.13\"; transcript_id \"ENST00000464678.1\"; gene_type \"protein_coding\"; gene_status \"KNOWN\"; gene_name \"RABL2B\"; transcript_type \"retained_intron\"; transcript_status \"KNOWN\"; transcript_name \"RABL2B-012\"; level 2; havana_gene \"OTTHUMG00000150156.3\"; havana_transcript \"OTTHUMT00000349055.1\";\n",
      "chr22\tHAVANA\ttranscript\t51209638\t51222058\t.\t-\t.\tgene_id \"ENSG00000079974.13\"; transcript_id \"ENST00000395590.1\"; gene_type \"protein_coding\"; gene_status \"KNOWN\"; gene_name \"RABL2B\"; transcript_type \"protein_coding\"; transcript_status \"PUTATIVE\"; transcript_name \"RABL2B-004\"; level 2; tag \"basic\"; havana_gene \"OTTHUMG00000150156.3\"; havana_transcript \"OTTHUMT00000316609.1\";\n",
      "chr22\tHAVANA\ttranscript\t51214199\t51222028\t.\t-\t.\tgene_id \"ENSG00000079974.13\"; transcript_id \"ENST00000468451.1\"; gene_type \"protein_coding\"; gene_status \"KNOWN\"; gene_name \"RABL2B\"; transcript_type \"nonsense_mediated_decay\"; transcript_status \"KNOWN\"; transcript_name \"RABL2B-014\"; level 2; havana_gene \"OTTHUMG00000150156.3\"; havana_transcript \"OTTHUMT00000349057.1\";\n",
      "chr22\tHAVANA\ttranscript\t51216088\t51222058\t.\t-\t.\tgene_id \"ENSG00000079974.13\"; transcript_id \"ENST00000464740.1\"; gene_type \"protein_coding\"; gene_status \"KNOWN\"; gene_name \"RABL2B\"; transcript_type \"retained_intron\"; transcript_status \"KNOWN\"; transcript_name \"RABL2B-015\"; level 2; havana_gene \"OTTHUMG00000150156.3\"; havana_transcript \"OTTHUMT00000349058.1\";\n",
      "chr22\tHAVANA\ttranscript\t51220662\t51221473\t.\t-\t.\tgene_id \"ENSG00000079974.13\"; transcript_id \"ENST00000413505.1\"; gene_type \"protein_coding\"; gene_status \"KNOWN\"; gene_name \"RABL2B\"; transcript_type \"protein_coding\"; transcript_status \"KNOWN\"; transcript_name \"RABL2B-011\"; level 2; tag \"alternative_5_UTR\"; tag \"mRNA_end_NF\"; tag \"cds_end_NF\"; havana_gene \"OTTHUMG00000150156.3\"; havana_transcript \"OTTHUMT00000316616.2\";\n",
      "\n"
     ]
    }
   ],
   "source": [
    "print(exercise2)"
   ]
  },
  {
   "cell_type": "code",
   "execution_count": 28,
   "metadata": {
    "collapsed": false,
    "scrolled": true
   },
   "outputs": [],
   "source": [
    "%%bash --out exercise3\n",
    "module load biotools\n",
    "bedtools flank -i gencode.v19.annotation.chr22.transcript.gtf -g hg19.genome -l 2000 -r 0 > gencode.v19.annotation.chr22.transcript.promoter.gtf\n",
    "\n",
    "wc -l gencode.v19.annotation.chr22.transcript.promoter.gtf\n",
    "echo '--- First 10 lines ---'\n",
    "head gencode.v19.annotation.chr22.transcript.promoter.gtf\n",
    "echo '--- Random 10 lines ---'\n",
    "awk -v seed=907 'BEGIN{srand(seed);}{ if (rand() < 0.5 ) {print $0}}' gencode.v19.annotation.chr22.transcript.promoter.gtf | head\n",
    "echo '--- Last 10 lines ---'\n",
    "tail gencode.v19.annotation.chr22.transcript.promoter.gtf"
   ]
  },
  {
   "cell_type": "code",
   "execution_count": 29,
   "metadata": {
    "collapsed": false
   },
   "outputs": [
    {
     "name": "stdout",
     "output_type": "stream",
     "text": [
      "4459 gencode.v19.annotation.chr22.transcript.promoter.gtf\n",
      "--- First 10 lines ---\n",
      "chr22\tHAVANA\ttranscript\t16060157\t16062156\t.\t+\t.\tgene_id \"ENSG00000233866.1\"; transcript_id \"ENST00000424770.1\"; gene_type \"lincRNA\"; gene_status \"KNOWN\"; gene_name \"LA16c-4G1.3\"; transcript_type \"lincRNA\"; transcript_status \"KNOWN\"; transcript_name \"LA16c-4G1.3-001\"; level 2; tag \"basic\"; havana_gene \"OTTHUMG00000140195.1\"; havana_transcript \"OTTHUMT00000276574.1\";\n",
      "chr22\tHAVANA\ttranscript\t16074052\t16076051\t.\t-\t.\tgene_id \"ENSG00000229286.1\"; transcript_id \"ENST00000448070.1\"; gene_type \"pseudogene\"; gene_status \"KNOWN\"; gene_name \"LA16c-4G1.4\"; transcript_type \"unprocessed_pseudogene\"; transcript_status \"KNOWN\"; transcript_name \"LA16c-4G1.4-001\"; level 2; ont \"PGO:0000005\"; havana_gene \"OTTHUMG00000140193.1\"; havana_transcript \"OTTHUMT00000276571.1\";\n",
      "chr22\tHAVANA\ttranscript\t16082249\t16084248\t.\t-\t.\tgene_id \"ENSG00000235265.1\"; transcript_id \"ENST00000413156.1\"; gene_type \"pseudogene\"; gene_status \"KNOWN\"; gene_name \"LA16c-4G1.5\"; transcript_type \"unprocessed_pseudogene\"; transcript_status \"KNOWN\"; transcript_name \"LA16c-4G1.5-001\"; level 2; ont \"PGO:0000005\"; havana_gene \"OTTHUMG00000140197.1\"; havana_transcript \"OTTHUMT00000276576.1\";\n",
      "chr22\tHAVANA\ttranscript\t16098517\t16100516\t.\t-\t.\tgene_id \"ENSG00000223875.1\"; transcript_id \"ENST00000420638.1\"; gene_type \"pseudogene\"; gene_status \"KNOWN\"; gene_name \"NBEAP3\"; transcript_type \"unprocessed_pseudogene\"; transcript_status \"KNOWN\"; transcript_name \"NBEAP3-001\"; level 2; ont \"PGO:0000005\"; havana_gene \"OTTHUMG00000140196.1\"; havana_transcript \"OTTHUMT00000276575.1\";\n",
      "chr22\tHAVANA\ttranscript\t16120720\t16122719\t.\t+\t.\tgene_id \"ENSG00000215270.3\"; transcript_id \"ENST00000398242.2\"; gene_type \"pseudogene\"; gene_status \"KNOWN\"; gene_name \"LA16c-60H5.7\"; transcript_type \"processed_pseudogene\"; transcript_status \"KNOWN\"; transcript_name \"LA16c-60H5.7-001\"; level 1; ont \"PGO:0000004\"; tag \"pseudo_consens\"; havana_gene \"OTTHUMG00000140200.1\"; havana_transcript \"OTTHUMT00000276581.1\";\n",
      "chr22\tHAVANA\ttranscript\t16145979\t16147978\t.\t-\t.\tgene_id \"ENSG00000206195.6\"; transcript_id \"ENST00000447898.1\"; gene_type \"processed_transcript\"; gene_status \"NOVEL\"; gene_name \"AP000525.9\"; transcript_type \"lincRNA\"; transcript_status \"KNOWN\"; transcript_name \"AP000525.9-002\"; level 2; tag \"basic\"; havana_gene \"OTTHUMG00000185288.2\"; havana_transcript \"OTTHUMT00000276780.1\";\n",
      "chr22\tHAVANA\ttranscript\t16148255\t16150254\t.\t-\t.\tgene_id \"ENSG00000206195.6\"; transcript_id \"ENST00000437781.1\"; gene_type \"processed_transcript\"; gene_status \"NOVEL\"; gene_name \"AP000525.9\"; transcript_type \"lincRNA\"; transcript_status \"KNOWN\"; transcript_name \"AP000525.9-003\"; level 2; havana_gene \"OTTHUMG00000185288.2\"; havana_transcript \"OTTHUMT00000276579.1\";\n",
      "chr22\tHAVANA\ttranscript\t16148529\t16150528\t.\t-\t.\tgene_id \"ENSG00000206195.6\"; transcript_id \"ENST00000413768.1\"; gene_type \"processed_transcript\"; gene_status \"NOVEL\"; gene_name \"AP000525.9\"; transcript_type \"lincRNA\"; transcript_status \"KNOWN\"; transcript_name \"AP000525.9-001\"; level 2; tag \"non_canonical_polymorphism\"; havana_gene \"OTTHUMG00000185288.2\"; havana_transcript \"OTTHUMT00000276578.1\";\n",
      "chr22\tHAVANA\ttranscript\t16156798\t16158797\t.\t-\t.\tgene_id \"ENSG00000206195.6\"; transcript_id \"ENST00000383038.3\"; gene_type \"processed_transcript\"; gene_status \"NOVEL\"; gene_name \"AP000525.9\"; transcript_type \"processed_transcript\"; transcript_status \"KNOWN\"; transcript_name \"AP000525.9-004\"; level 2; havana_gene \"OTTHUMG00000185288.2\"; havana_transcript \"OTTHUMT00000276577.1\";\n",
      "chr22\tHAVANA\ttranscript\t16156829\t16158828\t.\t-\t.\tgene_id \"ENSG00000206195.6\"; transcript_id \"ENST00000607933.1\"; gene_type \"processed_transcript\"; gene_status \"NOVEL\"; gene_name \"AP000525.9\"; transcript_type \"processed_transcript\"; transcript_status \"KNOWN\"; transcript_name \"AP000525.9-006\"; level 2; havana_gene \"OTTHUMG00000185288.2\"; havana_transcript \"OTTHUMT00000472240.1\";\n",
      "--- Random 10 lines ---\n",
      "chr22\tHAVANA\ttranscript\t16082249\t16084248\t.\t-\t.\tgene_id \"ENSG00000235265.1\"; transcript_id \"ENST00000413156.1\"; gene_type \"pseudogene\"; gene_status \"KNOWN\"; gene_name \"LA16c-4G1.5\"; transcript_type \"unprocessed_pseudogene\"; transcript_status \"KNOWN\"; transcript_name \"LA16c-4G1.5-001\"; level 2; ont \"PGO:0000005\"; havana_gene \"OTTHUMG00000140197.1\"; havana_transcript \"OTTHUMT00000276576.1\";\n",
      "chr22\tHAVANA\ttranscript\t16098517\t16100516\t.\t-\t.\tgene_id \"ENSG00000223875.1\"; transcript_id \"ENST00000420638.1\"; gene_type \"pseudogene\"; gene_status \"KNOWN\"; gene_name \"NBEAP3\"; transcript_type \"unprocessed_pseudogene\"; transcript_status \"KNOWN\"; transcript_name \"NBEAP3-001\"; level 2; ont \"PGO:0000005\"; havana_gene \"OTTHUMG00000140196.1\"; havana_transcript \"OTTHUMT00000276575.1\";\n",
      "chr22\tHAVANA\ttranscript\t16120720\t16122719\t.\t+\t.\tgene_id \"ENSG00000215270.3\"; transcript_id \"ENST00000398242.2\"; gene_type \"pseudogene\"; gene_status \"KNOWN\"; gene_name \"LA16c-60H5.7\"; transcript_type \"processed_pseudogene\"; transcript_status \"KNOWN\"; transcript_name \"LA16c-60H5.7-001\"; level 1; ont \"PGO:0000004\"; tag \"pseudo_consens\"; havana_gene \"OTTHUMG00000140200.1\"; havana_transcript \"OTTHUMT00000276581.1\";\n",
      "chr22\tHAVANA\ttranscript\t16148255\t16150254\t.\t-\t.\tgene_id \"ENSG00000206195.6\"; transcript_id \"ENST00000437781.1\"; gene_type \"processed_transcript\"; gene_status \"NOVEL\"; gene_name \"AP000525.9\"; transcript_type \"lincRNA\"; transcript_status \"KNOWN\"; transcript_name \"AP000525.9-003\"; level 2; havana_gene \"OTTHUMG00000185288.2\"; havana_transcript \"OTTHUMT00000276579.1\";\n",
      "chr22\tHAVANA\ttranscript\t16148529\t16150528\t.\t-\t.\tgene_id \"ENSG00000206195.6\"; transcript_id \"ENST00000413768.1\"; gene_type \"processed_transcript\"; gene_status \"NOVEL\"; gene_name \"AP000525.9\"; transcript_type \"lincRNA\"; transcript_status \"KNOWN\"; transcript_name \"AP000525.9-001\"; level 2; tag \"non_canonical_polymorphism\"; havana_gene \"OTTHUMG00000185288.2\"; havana_transcript \"OTTHUMT00000276578.1\";\n",
      "chr22\tHAVANA\ttranscript\t16156798\t16158797\t.\t-\t.\tgene_id \"ENSG00000206195.6\"; transcript_id \"ENST00000383038.3\"; gene_type \"processed_transcript\"; gene_status \"NOVEL\"; gene_name \"AP000525.9\"; transcript_type \"processed_transcript\"; transcript_status \"KNOWN\"; transcript_name \"AP000525.9-004\"; level 2; havana_gene \"OTTHUMG00000185288.2\"; havana_transcript \"OTTHUMT00000276577.1\";\n",
      "chr22\tHAVANA\ttranscript\t16156829\t16158828\t.\t-\t.\tgene_id \"ENSG00000206195.6\"; transcript_id \"ENST00000607933.1\"; gene_type \"processed_transcript\"; gene_status \"NOVEL\"; gene_name \"AP000525.9\"; transcript_type \"processed_transcript\"; transcript_status \"KNOWN\"; transcript_name \"AP000525.9-006\"; level 2; havana_gene \"OTTHUMG00000185288.2\"; havana_transcript \"OTTHUMT00000472240.1\";\n",
      "chr22\tHAVANA\ttranscript\t16148776\t16150775\t.\t-\t.\tgene_id \"ENSG00000271672.1\"; transcript_id \"ENST00000456786.2\"; gene_type \"pseudogene\"; gene_status \"KNOWN\"; gene_name \"DUXAP8\"; transcript_type \"transcribed_processed_pseudogene\"; transcript_status \"KNOWN\"; transcript_name \"DUXAP8-001\"; level 1; ont \"PGO:0000004\"; ont \"PGO:0000019\"; tag \"pseudo_consens\"; havana_gene \"OTTHUMG00000140194.3\"; havana_transcript \"OTTHUMT00000276572.3\";\n",
      "chr22\tHAVANA\ttranscript\t16160066\t16162065\t.\t+\t.\tgene_id \"ENSG00000232775.2\"; transcript_id \"ENST00000440946.1\"; gene_type \"pseudogene\"; gene_status \"KNOWN\"; gene_name \"AP000525.10\"; transcript_type \"processed_transcript\"; transcript_status \"KNOWN\"; transcript_name \"AP000525.10-002\"; level 2; tag \"basic\"; havana_gene \"OTTHUMG00000140198.3\"; havana_transcript \"OTTHUMT00000276785.1\";\n",
      "chr22\tHAVANA\ttranscript\t16253355\t16255354\t.\t-\t.\tgene_id \"ENSG00000241838.2\"; transcript_id \"ENST00000417657.1\"; gene_type \"pseudogene\"; gene_status \"KNOWN\"; gene_name \"LA16c-3G11.7\"; transcript_type \"processed_pseudogene\"; transcript_status \"KNOWN\"; transcript_name \"LA16c-3G11.7-001\"; level 1; ont \"PGO:0000004\"; tag \"pseudo_consens\"; havana_gene \"OTTHUMG00000140315.1\"; havana_transcript \"OTTHUMT00000276919.1\";\n",
      "--- Last 10 lines ---\n",
      "chr22\tHAVANA\ttranscript\t51203934\t51205933\t.\t-\t.\tgene_id \"ENSG00000079974.13\"; transcript_id \"ENST00000395591.1\"; gene_type \"protein_coding\"; gene_status \"KNOWN\"; gene_name \"RABL2B\"; transcript_type \"protein_coding\"; transcript_status \"NOVEL\"; transcript_name \"RABL2B-003\"; level 2; tag \"basic\"; havana_gene \"OTTHUMG00000150156.3\"; havana_transcript \"OTTHUMT00000316608.1\";\n",
      "chr22\tHAVANA\ttranscript\t51203934\t51205933\t.\t-\t.\tgene_id \"ENSG00000079974.13\"; transcript_id \"ENST00000395595.3\"; gene_type \"protein_coding\"; gene_status \"KNOWN\"; gene_name \"RABL2B\"; transcript_type \"protein_coding\"; transcript_status \"KNOWN\"; transcript_name \"RABL2B-006\"; level 2; tag \"basic\"; tag \"appris_candidate_longest\"; tag \"CCDS\"; ccdsid \"CCDS33683.1\"; havana_gene \"OTTHUMG00000150156.3\"; havana_transcript \"OTTHUMT00000316611.1\";\n",
      "chr22\tHAVANA\ttranscript\t51203937\t51205936\t.\t-\t.\tgene_id \"ENSG00000079974.13\"; transcript_id \"ENST00000465063.1\"; gene_type \"protein_coding\"; gene_status \"KNOWN\"; gene_name \"RABL2B\"; transcript_type \"processed_transcript\"; transcript_status \"KNOWN\"; transcript_name \"RABL2B-010\"; level 2; tag \"basic\"; havana_gene \"OTTHUMG00000150156.3\"; havana_transcript \"OTTHUMT00000316615.1\";\n",
      "chr22\tHAVANA\ttranscript\t51203958\t51205957\t.\t-\t.\tgene_id \"ENSG00000079974.13\"; transcript_id \"ENST00000436958.1\"; gene_type \"protein_coding\"; gene_status \"KNOWN\"; gene_name \"RABL2B\"; transcript_type \"nonsense_mediated_decay\"; transcript_status \"KNOWN\"; transcript_name \"RABL2B-002\"; level 2; havana_gene \"OTTHUMG00000150156.3\"; havana_transcript \"OTTHUMT00000316607.1\";\n",
      "chr22\tHAVANA\ttranscript\t51205955\t51207954\t.\t-\t.\tgene_id \"ENSG00000079974.13\"; transcript_id \"ENST00000482308.1\"; gene_type \"protein_coding\"; gene_status \"KNOWN\"; gene_name \"RABL2B\"; transcript_type \"retained_intron\"; transcript_status \"KNOWN\"; transcript_name \"RABL2B-013\"; level 2; havana_gene \"OTTHUMG00000150156.3\"; havana_transcript \"OTTHUMT00000349056.1\";\n",
      "chr22\tHAVANA\ttranscript\t51206210\t51208209\t.\t-\t.\tgene_id \"ENSG00000079974.13\"; transcript_id \"ENST00000464678.1\"; gene_type \"protein_coding\"; gene_status \"KNOWN\"; gene_name \"RABL2B\"; transcript_type \"retained_intron\"; transcript_status \"KNOWN\"; transcript_name \"RABL2B-012\"; level 2; havana_gene \"OTTHUMG00000150156.3\"; havana_transcript \"OTTHUMT00000349055.1\";\n",
      "chr22\tHAVANA\ttranscript\t51207638\t51209637\t.\t-\t.\tgene_id \"ENSG00000079974.13\"; transcript_id \"ENST00000395590.1\"; gene_type \"protein_coding\"; gene_status \"KNOWN\"; gene_name \"RABL2B\"; transcript_type \"protein_coding\"; transcript_status \"PUTATIVE\"; transcript_name \"RABL2B-004\"; level 2; tag \"basic\"; havana_gene \"OTTHUMG00000150156.3\"; havana_transcript \"OTTHUMT00000316609.1\";\n",
      "chr22\tHAVANA\ttranscript\t51212199\t51214198\t.\t-\t.\tgene_id \"ENSG00000079974.13\"; transcript_id \"ENST00000468451.1\"; gene_type \"protein_coding\"; gene_status \"KNOWN\"; gene_name \"RABL2B\"; transcript_type \"nonsense_mediated_decay\"; transcript_status \"KNOWN\"; transcript_name \"RABL2B-014\"; level 2; havana_gene \"OTTHUMG00000150156.3\"; havana_transcript \"OTTHUMT00000349057.1\";\n",
      "chr22\tHAVANA\ttranscript\t51214088\t51216087\t.\t-\t.\tgene_id \"ENSG00000079974.13\"; transcript_id \"ENST00000464740.1\"; gene_type \"protein_coding\"; gene_status \"KNOWN\"; gene_name \"RABL2B\"; transcript_type \"retained_intron\"; transcript_status \"KNOWN\"; transcript_name \"RABL2B-015\"; level 2; havana_gene \"OTTHUMG00000150156.3\"; havana_transcript \"OTTHUMT00000349058.1\";\n",
      "chr22\tHAVANA\ttranscript\t51218662\t51220661\t.\t-\t.\tgene_id \"ENSG00000079974.13\"; transcript_id \"ENST00000413505.1\"; gene_type \"protein_coding\"; gene_status \"KNOWN\"; gene_name \"RABL2B\"; transcript_type \"protein_coding\"; transcript_status \"KNOWN\"; transcript_name \"RABL2B-011\"; level 2; tag \"alternative_5_UTR\"; tag \"mRNA_end_NF\"; tag \"cds_end_NF\"; havana_gene \"OTTHUMG00000150156.3\"; havana_transcript \"OTTHUMT00000316616.2\";\n",
      "\n"
     ]
    }
   ],
   "source": [
    "print(exercise3)"
   ]
  },
  {
   "cell_type": "code",
   "execution_count": 30,
   "metadata": {
    "collapsed": false
   },
   "outputs": [],
   "source": [
    "%%bash --out exercise4\n",
    "module load biotools\n",
    "bedtools intersect -a gencode.v19.annotation.chr22.transcript.promoter.gtf -b tf.nfkb.bed > gencode.v19.annotation.chr22.transcript.promoter.nfkb.gtf\n",
    "\n",
    "wc -l gencode.v19.annotation.chr22.transcript.promoter.nfkb.gtf\n",
    "echo '--- First 10 lines ---'\n",
    "head gencode.v19.annotation.chr22.transcript.promoter.nfkb.gtf\n",
    "echo '--- Random 10 lines ---'\n",
    "awk -v seed=908 'BEGIN{srand(seed);}{ if (rand() < 0.5 ) {print $0}}' gencode.v19.annotation.chr22.transcript.promoter.nfkb.gtf | head\n",
    "echo '--- Last 10 lines ---'\n",
    "tail gencode.v19.annotation.chr22.transcript.promoter.nfkb.gtf"
   ]
  },
  {
   "cell_type": "code",
   "execution_count": 31,
   "metadata": {
    "collapsed": false
   },
   "outputs": [
    {
     "name": "stdout",
     "output_type": "stream",
     "text": [
      "740 gencode.v19.annotation.chr22.transcript.promoter.nfkb.gtf\n",
      "--- First 10 lines ---\n",
      "chr22\tHAVANA\ttranscript\t17565763\t17565843\t.\t+\t.\tgene_id \"ENSG00000177663.9\"; transcript_id \"ENST00000477874.1\"; gene_type \"protein_coding\"; gene_status \"KNOWN\"; gene_name \"IL17RA\"; transcript_type \"processed_transcript\"; transcript_status \"PUTATIVE\"; transcript_name \"IL17RA-004\"; level 1; tag \"basic\"; tag \"exp_conf\"; havana_gene \"OTTHUMG00000150026.1\"; havana_transcript \"OTTHUMT00000315823.1\";\n",
      "chr22\tHAVANA\ttranscript\t17565763\t17565848\t.\t+\t.\tgene_id \"ENSG00000177663.9\"; transcript_id \"ENST00000319363.6\"; gene_type \"protein_coding\"; gene_status \"KNOWN\"; gene_name \"IL17RA\"; transcript_type \"protein_coding\"; transcript_status \"KNOWN\"; transcript_name \"IL17RA-001\"; level 2; tag \"basic\"; tag \"appris_principal\"; tag \"CCDS\"; ccdsid \"CCDS13739.1\"; havana_gene \"OTTHUMG00000150026.1\"; havana_transcript \"OTTHUMT00000315820.1\";\n",
      "chr22\tHAVANA\ttranscript\t17565763\t17565946\t.\t+\t.\tgene_id \"ENSG00000177663.9\"; transcript_id \"ENST00000459971.1\"; gene_type \"protein_coding\"; gene_status \"KNOWN\"; gene_name \"IL17RA\"; transcript_type \"retained_intron\"; transcript_status \"KNOWN\"; transcript_name \"IL17RA-003\"; level 2; havana_gene \"OTTHUMG00000150026.1\"; havana_transcript \"OTTHUMT00000315822.1\";\n",
      "chr22\tHAVANA\ttranscript\t18121203\t18121355\t.\t+\t.\tgene_id \"ENSG00000099968.13\"; transcript_id \"ENST00000317582.5\"; gene_type \"protein_coding\"; gene_status \"KNOWN\"; gene_name \"BCL2L13\"; transcript_type \"protein_coding\"; transcript_status \"KNOWN\"; transcript_name \"BCL2L13-001\"; level 2; tag \"basic\"; tag \"appris_principal\"; tag \"CCDS\"; ccdsid \"CCDS13746.1\"; havana_gene \"OTTHUMG00000150088.3\"; havana_transcript \"OTTHUMT00000316184.1\";\n",
      "chr22\tHAVANA\ttranscript\t18121203\t18121506\t.\t+\t.\tgene_id \"ENSG00000099968.13\"; transcript_id \"ENST00000498133.1\"; gene_type \"protein_coding\"; gene_status \"KNOWN\"; gene_name \"BCL2L13\"; transcript_type \"nonsense_mediated_decay\"; transcript_status \"KNOWN\"; transcript_name \"BCL2L13-003\"; level 2; havana_gene \"OTTHUMG00000150088.3\"; havana_transcript \"OTTHUMT00000316186.2\";\n",
      "chr22\tENSEMBL\ttranscript\t18121203\t18121506\t.\t+\t.\tgene_id \"ENSG00000099968.13\"; transcript_id \"ENST00000543133.1\"; gene_type \"protein_coding\"; gene_status \"KNOWN\"; gene_name \"BCL2L13\"; transcript_type \"protein_coding\"; transcript_status \"KNOWN\"; transcript_name \"BCL2L13-204\"; level 3; tag \"basic\"; tag \"CCDS\"; ccdsid \"CCDS59448.1\"; havana_gene \"OTTHUMG00000150088.3\";\n",
      "chr22\tHAVANA\ttranscript\t18121203\t18121522\t.\t+\t.\tgene_id \"ENSG00000099968.13\"; transcript_id \"ENST00000464649.1\"; gene_type \"protein_coding\"; gene_status \"KNOWN\"; gene_name \"BCL2L13\"; transcript_type \"processed_transcript\"; transcript_status \"PUTATIVE\"; transcript_name \"BCL2L13-009\"; level 2; havana_gene \"OTTHUMG00000150088.3\"; havana_transcript \"OTTHUMT00000316192.1\";\n",
      "chr22\tENSEMBL\ttranscript\t18121203\t18121522\t.\t+\t.\tgene_id \"ENSG00000099968.13\"; transcript_id \"ENST00000538149.1\"; gene_type \"protein_coding\"; gene_status \"KNOWN\"; gene_name \"BCL2L13\"; transcript_type \"protein_coding\"; transcript_status \"KNOWN\"; transcript_name \"BCL2L13-203\"; level 3; tag \"basic\"; havana_gene \"OTTHUMG00000150088.3\";\n",
      "chr22\tENSEMBL\ttranscript\t18121203\t18121529\t.\t+\t.\tgene_id \"ENSG00000099968.13\"; transcript_id \"ENST00000337612.5\"; gene_type \"protein_coding\"; gene_status \"KNOWN\"; gene_name \"BCL2L13\"; transcript_type \"protein_coding\"; transcript_status \"KNOWN\"; transcript_name \"BCL2L13-201\"; level 3; tag \"basic\"; tag \"CCDS\"; ccdsid \"CCDS59448.1\"; havana_gene \"OTTHUMG00000150088.3\";\n",
      "chr22\tHAVANA\ttranscript\t18121203\t18121537\t.\t+\t.\tgene_id \"ENSG00000099968.13\"; transcript_id \"ENST00000493680.1\"; gene_type \"protein_coding\"; gene_status \"KNOWN\"; gene_name \"BCL2L13\"; transcript_type \"protein_coding\"; transcript_status \"KNOWN\"; transcript_name \"BCL2L13-004\"; level 2; tag \"alternative_5_UTR\"; tag \"basic\"; havana_gene \"OTTHUMG00000150088.3\"; havana_transcript \"OTTHUMT00000316187.2\";\n",
      "--- Random 10 lines ---\n",
      "chr22\tHAVANA\ttranscript\t17565763\t17565848\t.\t+\t.\tgene_id \"ENSG00000177663.9\"; transcript_id \"ENST00000319363.6\"; gene_type \"protein_coding\"; gene_status \"KNOWN\"; gene_name \"IL17RA\"; transcript_type \"protein_coding\"; transcript_status \"KNOWN\"; transcript_name \"IL17RA-001\"; level 2; tag \"basic\"; tag \"appris_principal\"; tag \"CCDS\"; ccdsid \"CCDS13739.1\"; havana_gene \"OTTHUMG00000150026.1\"; havana_transcript \"OTTHUMT00000315820.1\";\n",
      "chr22\tHAVANA\ttranscript\t17565763\t17565946\t.\t+\t.\tgene_id \"ENSG00000177663.9\"; transcript_id \"ENST00000459971.1\"; gene_type \"protein_coding\"; gene_status \"KNOWN\"; gene_name \"IL17RA\"; transcript_type \"retained_intron\"; transcript_status \"KNOWN\"; transcript_name \"IL17RA-003\"; level 2; havana_gene \"OTTHUMG00000150026.1\"; havana_transcript \"OTTHUMT00000315822.1\";\n",
      "chr22\tHAVANA\ttranscript\t18121203\t18121355\t.\t+\t.\tgene_id \"ENSG00000099968.13\"; transcript_id \"ENST00000317582.5\"; gene_type \"protein_coding\"; gene_status \"KNOWN\"; gene_name \"BCL2L13\"; transcript_type \"protein_coding\"; transcript_status \"KNOWN\"; transcript_name \"BCL2L13-001\"; level 2; tag \"basic\"; tag \"appris_principal\"; tag \"CCDS\"; ccdsid \"CCDS13746.1\"; havana_gene \"OTTHUMG00000150088.3\"; havana_transcript \"OTTHUMT00000316184.1\";\n",
      "chr22\tHAVANA\ttranscript\t18121203\t18121537\t.\t+\t.\tgene_id \"ENSG00000099968.13\"; transcript_id \"ENST00000493680.1\"; gene_type \"protein_coding\"; gene_status \"KNOWN\"; gene_name \"BCL2L13\"; transcript_type \"protein_coding\"; transcript_status \"KNOWN\"; transcript_name \"BCL2L13-004\"; level 2; tag \"alternative_5_UTR\"; tag \"basic\"; havana_gene \"OTTHUMG00000150088.3\"; havana_transcript \"OTTHUMT00000316187.2\";\n",
      "chr22\tHAVANA\ttranscript\t18558833\t18559192\t.\t-\t.\tgene_id \"ENSG00000225335.2\"; transcript_id \"ENST00000426483.1\"; gene_type \"antisense\"; gene_status \"NOVEL\"; gene_name \"XXbac-B476C20.9\"; transcript_type \"antisense\"; transcript_status \"KNOWN\"; transcript_name \"XXbac-B476C20.9-001\"; level 1; tag \"basic\"; tag \"exp_conf\"; havana_gene \"OTTHUMG00000149968.2\"; havana_transcript \"OTTHUMT00000314642.1\";\n",
      "chr22\tHAVANA\ttranscript\t18558833\t18559192\t.\t-\t.\tgene_id \"ENSG00000225335.2\"; transcript_id \"ENST00000607927.1\"; gene_type \"antisense\"; gene_status \"NOVEL\"; gene_name \"XXbac-B476C20.9\"; transcript_type \"antisense\"; transcript_status \"KNOWN\"; transcript_name \"XXbac-B476C20.9-002\"; level 2; tag \"basic\"; havana_gene \"OTTHUMG00000149968.2\"; havana_transcript \"OTTHUMT00000472249.1\";\n",
      "chr22\tHAVANA\ttranscript\t18558833\t18559192\t.\t+\t.\tgene_id \"ENSG00000215193.8\"; transcript_id \"ENST00000399744.3\"; gene_type \"protein_coding\"; gene_status \"KNOWN\"; gene_name \"PEX26\"; transcript_type \"protein_coding\"; transcript_status \"KNOWN\"; transcript_name \"PEX26-002\"; level 2; tag \"basic\"; tag \"appris_principal\"; tag \"CCDS\"; ccdsid \"CCDS13750.1\"; havana_gene \"OTTHUMG00000149970.5\"; havana_transcript \"OTTHUMT00000314645.1\";\n",
      "chr22\tHAVANA\ttranscript\t18560386\t18560773\t.\t+\t.\tgene_id \"ENSG00000215193.8\"; transcript_id \"ENST00000399744.3\"; gene_type \"protein_coding\"; gene_status \"KNOWN\"; gene_name \"PEX26\"; transcript_type \"protein_coding\"; transcript_status \"KNOWN\"; transcript_name \"PEX26-002\"; level 2; tag \"basic\"; tag \"appris_principal\"; tag \"CCDS\"; ccdsid \"CCDS13750.1\"; havana_gene \"OTTHUMG00000149970.5\"; havana_transcript \"OTTHUMT00000314645.1\";\n",
      "chr22\tHAVANA\ttranscript\t18558833\t18559192\t.\t+\t.\tgene_id \"ENSG00000215193.8\"; transcript_id \"ENST00000474897.1\"; gene_type \"protein_coding\"; gene_status \"KNOWN\"; gene_name \"PEX26\"; transcript_type \"nonsense_mediated_decay\"; transcript_status \"KNOWN\"; transcript_name \"PEX26-004\"; level 2; havana_gene \"OTTHUMG00000149970.5\"; havana_transcript \"OTTHUMT00000316267.2\";\n",
      "chr22\tHAVANA\ttranscript\t18559143\t18559192\t.\t+\t.\tgene_id \"ENSG00000215193.8\"; transcript_id \"ENST00000428061.2\"; gene_type \"protein_coding\"; gene_status \"KNOWN\"; gene_name \"PEX26\"; transcript_type \"protein_coding\"; transcript_status \"PUTATIVE\"; transcript_name \"PEX26-003\"; level 1; tag \"basic\"; tag \"exp_conf\"; tag \"CCDS\"; ccdsid \"CCDS56221.1\"; havana_gene \"OTTHUMG00000149970.5\"; havana_transcript \"OTTHUMT00000314646.1\";\n",
      "--- Last 10 lines ---\n",
      "chr22\tHAVANA\ttranscript\t50968488\t50968788\t.\t-\t.\tgene_id \"ENSG00000177989.9\"; transcript_id \"ENST00000437588.1\"; gene_type \"protein_coding\"; gene_status \"KNOWN\"; gene_name \"ODF3B\"; transcript_type \"protein_coding\"; transcript_status \"PUTATIVE\"; transcript_name \"ODF3B-007\"; level 2; tag \"mRNA_end_NF\"; tag \"cds_end_NF\"; havana_gene \"OTTHUMG00000150334.2\"; havana_transcript \"OTTHUMT00000317629.1\";\n",
      "chr22\tHAVANA\ttranscript\t50969418\t50969694\t.\t-\t.\tgene_id \"ENSG00000177989.9\"; transcript_id \"ENST00000437588.1\"; gene_type \"protein_coding\"; gene_status \"KNOWN\"; gene_name \"ODF3B\"; transcript_type \"protein_coding\"; transcript_status \"PUTATIVE\"; transcript_name \"ODF3B-007\"; level 2; tag \"mRNA_end_NF\"; tag \"cds_end_NF\"; havana_gene \"OTTHUMG00000150334.2\"; havana_transcript \"OTTHUMT00000317629.1\";\n",
      "chr22\tHAVANA\ttranscript\t50979332\t50979632\t.\t-\t.\tgene_id \"ENSG00000272666.1\"; transcript_id \"ENST00000609178.1\"; gene_type \"lincRNA\"; gene_status \"NOVEL\"; gene_name \"CTA-384D8.35\"; transcript_type \"lincRNA\"; transcript_status \"KNOWN\"; transcript_name \"CTA-384D8.35-001\"; level 2; tag \"basic\"; havana_gene \"OTTHUMG00000186141.1\"; havana_transcript \"OTTHUMT00000472315.1\";\n",
      "chr22\tHAVANA\ttranscript\t50979332\t50979632\t.\t+\t.\tgene_id \"ENSG00000273272.1\"; transcript_id \"ENST00000609268.1\"; gene_type \"lincRNA\"; gene_status \"NOVEL\"; gene_name \"CTA-384D8.34\"; transcript_type \"lincRNA\"; transcript_status \"KNOWN\"; transcript_name \"CTA-384D8.34-001\"; level 2; tag \"basic\"; havana_gene \"OTTHUMG00000186142.1\"; havana_transcript \"OTTHUMT00000472316.1\";\n",
      "chr22\tHAVANA\ttranscript\t50980831\t50981078\t.\t+\t.\tgene_id \"ENSG00000273272.1\"; transcript_id \"ENST00000609268.1\"; gene_type \"lincRNA\"; gene_status \"NOVEL\"; gene_name \"CTA-384D8.34\"; transcript_type \"lincRNA\"; transcript_status \"KNOWN\"; transcript_name \"CTA-384D8.34-001\"; level 2; tag \"basic\"; havana_gene \"OTTHUMG00000186142.1\"; havana_transcript \"OTTHUMT00000472316.1\";\n",
      "chr22\tHAVANA\ttranscript\t51021040\t51021316\t.\t+\t.\tgene_id \"ENSG00000205559.3\"; transcript_id \"ENST00000380711.3\"; gene_type \"antisense\"; gene_status \"NOVEL\"; gene_name \"CHKB-AS1\"; transcript_type \"antisense\"; transcript_status \"KNOWN\"; transcript_name \"CHKB-AS1-001\"; level 1; tag \"basic\"; tag \"exp_conf\"; havana_gene \"OTTHUMG00000150208.1\"; havana_transcript \"OTTHUMT00000316839.1\";\n",
      "chr22\tHAVANA\ttranscript\t51059182\t51059230\t.\t-\t.\tgene_id \"ENSG00000100299.13\"; transcript_id \"ENST00000610191.1\"; gene_type \"protein_coding\"; gene_status \"KNOWN\"; gene_name \"ARSA\"; transcript_type \"processed_transcript\"; transcript_status \"KNOWN\"; transcript_name \"ARSA-008\"; level 2; tag \"basic\"; havana_gene \"OTTHUMG00000150180.3\"; havana_transcript \"OTTHUMT00000472282.1\";\n",
      "chr22\tHAVANA\ttranscript\t51060107\t51060383\t.\t-\t.\tgene_id \"ENSG00000100299.13\"; transcript_id \"ENST00000610191.1\"; gene_type \"protein_coding\"; gene_status \"KNOWN\"; gene_name \"ARSA\"; transcript_type \"processed_transcript\"; transcript_status \"KNOWN\"; transcript_name \"ARSA-008\"; level 2; tag \"basic\"; havana_gene \"OTTHUMG00000150180.3\"; havana_transcript \"OTTHUMT00000472282.1\";\n",
      "chr22\tHAVANA\ttranscript\t51059182\t51059230\t.\t-\t.\tgene_id \"ENSG00000100299.13\"; transcript_id \"ENST00000608497.1\"; gene_type \"protein_coding\"; gene_status \"KNOWN\"; gene_name \"ARSA\"; transcript_type \"nonsense_mediated_decay\"; transcript_status \"KNOWN\"; transcript_name \"ARSA-007\"; level 2; tag \"mRNA_start_NF\"; tag \"cds_start_NF\"; havana_gene \"OTTHUMG00000150180.3\"; havana_transcript \"OTTHUMT00000472283.1\";\n",
      "chr22\tHAVANA\ttranscript\t51060107\t51060383\t.\t-\t.\tgene_id \"ENSG00000100299.13\"; transcript_id \"ENST00000608497.1\"; gene_type \"protein_coding\"; gene_status \"KNOWN\"; gene_name \"ARSA\"; transcript_type \"nonsense_mediated_decay\"; transcript_status \"KNOWN\"; transcript_name \"ARSA-007\"; level 2; tag \"mRNA_start_NF\"; tag \"cds_start_NF\"; havana_gene \"OTTHUMG00000150180.3\"; havana_transcript \"OTTHUMT00000472283.1\";\n",
      "\n"
     ]
    }
   ],
   "source": [
    "print(exercise4)"
   ]
  },
  {
   "cell_type": "code",
   "execution_count": 32,
   "metadata": {
    "collapsed": false
   },
   "outputs": [],
   "source": [
    "%%bash --out exercise5\n",
    "module load biotools\n",
    "bedtools getfasta -fi GRCh37.p13.chr22.fa -bed gencode.v19.annotation.chr22.transcript.promoter.nfkb.gtf -s -fo gencode.v19.annotation.chr22.transcript.promoter.nfkb.fasta\n",
    "wc -l gencode.v19.annotation.chr22.transcript.promoter.nfkb.fasta\n",
    "echo '--- First 10 lines ---'\n",
    "head gencode.v19.annotation.chr22.transcript.promoter.nfkb.fasta\n",
    "echo '--- Random 10 lines ---'\n",
    "awk -v seed=908 'BEGIN{srand(seed);}{ if (rand() < 0.5 ) {print $0}}' gencode.v19.annotation.chr22.transcript.promoter.nfkb.fasta | head\n",
    "echo '--- Last 10 lines ---'\n",
    "tail gencode.v19.annotation.chr22.transcript.promoter.nfkb.fasta"
   ]
  },
  {
   "cell_type": "code",
   "execution_count": 33,
   "metadata": {
    "collapsed": false
   },
   "outputs": [
    {
     "name": "stdout",
     "output_type": "stream",
     "text": [
      "1480 gencode.v19.annotation.chr22.transcript.promoter.nfkb.fasta\n",
      "--- First 10 lines ---\n",
      ">chr22:17565762-17565843(+)\n",
      "GCAAGGAGGAACGGGGGGAGGGCCCTGTCTCACCCTAAACCCCTCCCCGTCCCAGACTAAACTCCTCCCCTCGGCCCGGCC\n",
      ">chr22:17565762-17565848(+)\n",
      "GCAAGGAGGAACGGGGGGAGGGCCCTGTCTCACCCTAAACCCCTCCCCGTCCCAGACTAAACTCCTCCCCTCGGCCCGGCCCGCCC\n",
      ">chr22:17565762-17565946(+)\n",
      "GCAAGGAGGAACGGGGGGAGGGCCCTGTCTCACCCTAAACCCCTCCCCGTCCCAGACTAAACTCCTCCCCTCGGCCCGGCCCGCCCCTGGGCCCGGGCTGGAAGCCGGAAGCGAGCAAAGTGGAGCCGACTCGAACTCCACCGCGGAAAAGAAAGCCTCAGAACGTTCGTTCGCTGCGTCCCCA\n",
      ">chr22:18121202-18121355(+)\n",
      "TGTTTGTGGAACTGAACATAGCCTGTGCATGCAGCAAGGCTTCTTTCCCTGGAATCGCCTGCCCTTCCTCCAACACAGCGACCAGCCGGTCAGAATCCCAACCCCTCGACTCCGGAAATGATCTGAGAGACGGAACTTCCGAACGTCGCAATC\n",
      ">chr22:18121202-18121506(+)\n",
      "TGTTTGTGGAACTGAACATAGCCTGTGCATGCAGCAAGGCTTCTTTCCCTGGAATCGCCTGCCCTTCCTCCAACACAGCGACCAGCCGGTCAGAATCCCAACCCCTCGACTCCGGAAATGATCTGAGAGACGGAACTTCCGAACGTCGCAATCAGATTTGGGCGGGCTAGGAGGGTTTGGGTCTTCAGGTCACATCTGGACGGAGAGACCTCCGGGGCCTCCGTTGGTCGGTCCTTCCGCTCCGGATACCGTTCCGGATGTCAGGTAGTTCAGGTCCCGCCCCGACGCCGGCCGTGACGAAGGC\n",
      "--- Random 10 lines ---\n",
      "GCAAGGAGGAACGGGGGGAGGGCCCTGTCTCACCCTAAACCCCTCCCCGTCCCAGACTAAACTCCTCCCCTCGGCCCGGCC\n",
      ">chr22:17565762-17565848(+)\n",
      "GCAAGGAGGAACGGGGGGAGGGCCCTGTCTCACCCTAAACCCCTCCCCGTCCCAGACTAAACTCCTCCCCTCGGCCCGGCCCGCCC\n",
      "TGTTTGTGGAACTGAACATAGCCTGTGCATGCAGCAAGGCTTCTTTCCCTGGAATCGCCTGCCCTTCCTCCAACACAGCGACCAGCCGGTCAGAATCCCAACCCCTCGACTCCGGAAATGATCTGAGAGACGGAACTTCCGAACGTCGCAATCAGATTTGGGCGGGCTAGGAGGGTTTGGGTCTTCAGGTCACATCTGGACGGAGAGACCTCCGGGGCCTCCGTTGGTCGGTCCTTCCGCTCCGGATACCGTTCCGGATGTCAGGTAGTTCAGGTCCCGCCCCGACGCCGGCCGTGACGAAGGC\n",
      "TGTTTGTGGAACTGAACATAGCCTGTGCATGCAGCAAGGCTTCTTTCCCTGGAATCGCCTGCCCTTCCTCCAACACAGCGACCAGCCGGTCAGAATCCCAACCCCTCGACTCCGGAAATGATCTGAGAGACGGAACTTCCGAACGTCGCAATCAGATTTGGGCGGGCTAGGAGGGTTTGGGTCTTCAGGTCACATCTGGACGGAGAGACCTCCGGGGCCTCCGTTGGTCGGTCCTTCCGCTCCGGATACCGTTCCGGATGTCAGGTAGTTCAGGTCCCGCCCCGACGCCGGCCGTGACGAAGGCACGCCGGGGTGACCTC\n",
      ">chr22:18121202-18121522(+)\n",
      "TGTTTGTGGAACTGAACATAGCCTGTGCATGCAGCAAGGCTTCTTTCCCTGGAATCGCCTGCCCTTCCTCCAACACAGCGACCAGCCGGTCAGAATCCCAACCCCTCGACTCCGGAAATGATCTGAGAGACGGAACTTCCGAACGTCGCAATCAGATTTGGGCGGGCTAGGAGGGTTTGGGTCTTCAGGTCACATCTGGACGGAGAGACCTCCGGGGCCTCCGTTGGTCGGTCCTTCCGCTCCGGATACCGTTCCGGATGTCAGGTAGTTCAGGTCCCGCCCCGACGCCGGCCGTGACGAAGGCACGCCGGGGTGACCTCACCCTCC\n",
      ">chr22:18121202-18121537(+)\n",
      "TGTTTGTGGAACTGAACATAGCCTGTGCATGCAGCAAGGCTTCTTTCCCTGGAATCGCCTGCCCTTCCTCCAACACAGCGACCAGCCGGTCAGAATCCCAACCCCTCGACTCCGGAAATGATCTGAGAGACGGAACTTCCGAACGTCGCAATCAGATTTGGGCGGGCTAGGAGGGTTTGGGTCTTCAGGTCACATCTGGACGGAGAGACCTCCGGGGCCTCCGTTGGTCGGTCCTTCCGCTCCGGATACCGTTCCGGATGTCAGGTAGTTCAGGTCCCGCCCCGACGCCGGCCGTGACGAAGGCACGCCGGGGTGACCTCACCCTCCAACATGGC\n",
      "TGTTTGTGGAACTGAACATAGCCTGTGCATGCAGCAAGGCTTCTTTCCCTGGAATCGCCTGCCCTTCCTCCAACACAGCGACCAGCCGGTCAGAATCCCAACCCCTCGACTCCGGAAATGATCTGAGAGACGGAACTTCCGAACGTCGCAATCAGATTTGGGCGGGCTAGGAGGGTTTGGGTCTTCAGGTCACATCTGGACGGAGAGACCTCCGGGGCCTCCGTTGGTCGGTCCTTCCGCTCCGGATACCGTTCCGGATGTCAGGTAGTTCAGGTCCCGCCCCGACGCCGGCCGTGACGAAGGCACGCCGGGGTGACCTCACCCTCCAACATGGCGGCGGCGGTAGATTAGGGCCGCGGGTCGGAGCACTCACC\n",
      "--- Last 10 lines ---\n",
      ">chr22:51021039-51021316(+)\n",
      "CAAGTACTCCCGGCACCATTGGTAGGCTCGGCGCTCGGCGTCACGCGACAGCGACGAGGCGCGCCGCCGTTTTGGGGTAGTGTCCGGGCACTTAGACTGCTGCAAGCCGTCTTTGGCCAGGCAGCCGCCAACAGCCCCGCTTCCGGCCACAGCTGTCGCCTCGGCCGCCATGGCGCGGGCTCGACCGGGCCCCAGGCCAGGCTGCGCTCCGCTCCCTTCGGACGGGCTCGGTTCCTTCCGGCCGCGCTCGGCTCCTCTTCCGGCCGGCCTGGGCTTC\n",
      ">chr22:51059181-51059230(-)\n",
      "CTCAGTGTCCTCTCGAAGGGGCTAAGAGTGTTTTGAAATGGACAGAACA\n",
      ">chr22:51060106-51060383(-)\n",
      "TACCCTTTCTGCAGAAAGTATAAAAGAAAATTAAATTTATGTTCAAGTGCTGTTTCTTTACGGCACCGAGGAACAAGCATTTCAAACAGCGCTGTGGTTCAAGATGAGGGCAGAGAGGAACTGAACTGGAGGCATGATTCCAGTATCACACGAAAGACCAAACCCTCTAGCAAGAACTAAATGAATACTAACACCCAACCACAGTCTTCAGGCACCTCCTCCAGCTCTGCTGCTCCACTTCCTCTCACTTGGGTAGTGTGCATAACTGAGTTAATCC\n",
      ">chr22:51059181-51059230(-)\n",
      "CTCAGTGTCCTCTCGAAGGGGCTAAGAGTGTTTTGAAATGGACAGAACA\n",
      ">chr22:51060106-51060383(-)\n",
      "TACCCTTTCTGCAGAAAGTATAAAAGAAAATTAAATTTATGTTCAAGTGCTGTTTCTTTACGGCACCGAGGAACAAGCATTTCAAACAGCGCTGTGGTTCAAGATGAGGGCAGAGAGGAACTGAACTGGAGGCATGATTCCAGTATCACACGAAAGACCAAACCCTCTAGCAAGAACTAAATGAATACTAACACCCAACCACAGTCTTCAGGCACCTCCTCCAGCTCTGCTGCTCCACTTCCTCTCACTTGGGTAGTGTGCATAACTGAGTTAATCC\n",
      "\n"
     ]
    }
   ],
   "source": [
    "print(exercise5)"
   ]
  },
  {
   "cell_type": "code",
   "execution_count": 34,
   "metadata": {
    "collapsed": true
   },
   "outputs": [],
   "source": [
    "#exercise6 \n",
    "#known binding sites as reported in Wong et al. include (GGGGAATCCCC)and (GGGGACTTTCC)\n",
    "#sequence matches in the fasta file with known binding sites is not found "
   ]
  }
 ],
 "metadata": {
  "kernelspec": {
   "display_name": "Python 3",
   "language": "python",
   "name": "python3"
  },
  "language_info": {
   "codemirror_mode": {
    "name": "ipython",
    "version": 3
   },
   "file_extension": ".py",
   "mimetype": "text/x-python",
   "name": "python",
   "nbconvert_exporter": "python",
   "pygments_lexer": "ipython3",
   "version": "3.5.1"
  }
 },
 "nbformat": 4,
 "nbformat_minor": 0
}
